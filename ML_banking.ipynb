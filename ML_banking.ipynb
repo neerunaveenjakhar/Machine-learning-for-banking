{
 "cells": [
  {
   "cell_type": "code",
   "execution_count": 152,
   "metadata": {},
   "outputs": [],
   "source": [
    "import os\n",
    "import warnings\n",
    "warnings.filterwarnings('ignore')"
   ]
  },
  {
   "cell_type": "code",
   "execution_count": 153,
   "metadata": {},
   "outputs": [],
   "source": [
    "import pandas as pd\n",
    "import numpy as np\n",
    "from statistics import mode"
   ]
  },
  {
   "cell_type": "code",
   "execution_count": 154,
   "metadata": {},
   "outputs": [
    {
     "name": "stdout",
     "output_type": "stream",
     "text": [
      "Train shape: (164309, 14)\n"
     ]
    }
   ],
   "source": [
    "# Read train data\n",
    "train = pd.read_csv('train.csv')\n",
    "\n",
    "# Have a first look at train data\n",
    "print('Train shape:', train.shape)"
   ]
  },
  {
   "cell_type": "code",
   "execution_count": 155,
   "metadata": {},
   "outputs": [
    {
     "data": {
      "text/html": [
       "<div>\n",
       "<style scoped>\n",
       "    .dataframe tbody tr th:only-of-type {\n",
       "        vertical-align: middle;\n",
       "    }\n",
       "\n",
       "    .dataframe tbody tr th {\n",
       "        vertical-align: top;\n",
       "    }\n",
       "\n",
       "    .dataframe thead th {\n",
       "        text-align: right;\n",
       "    }\n",
       "</style>\n",
       "<table border=\"1\" class=\"dataframe\">\n",
       "  <thead>\n",
       "    <tr style=\"text-align: right;\">\n",
       "      <th></th>\n",
       "      <th>Loan_ID</th>\n",
       "      <th>Loan_Amount_Requested</th>\n",
       "      <th>Length_Employed</th>\n",
       "      <th>Home_Owner</th>\n",
       "      <th>Annual_Income</th>\n",
       "      <th>Income_Verified</th>\n",
       "      <th>Purpose_Of_Loan</th>\n",
       "      <th>Debt_To_Income</th>\n",
       "      <th>Inquiries_Last_6Mo</th>\n",
       "      <th>Months_Since_Deliquency</th>\n",
       "      <th>Number_Open_Accounts</th>\n",
       "      <th>Total_Accounts</th>\n",
       "      <th>Gender</th>\n",
       "      <th>Interest_Rate</th>\n",
       "    </tr>\n",
       "  </thead>\n",
       "  <tbody>\n",
       "    <tr>\n",
       "      <td>0</td>\n",
       "      <td>10000001</td>\n",
       "      <td>7,000</td>\n",
       "      <td>&lt; 1 year</td>\n",
       "      <td>Rent</td>\n",
       "      <td>68000.0</td>\n",
       "      <td>not verified</td>\n",
       "      <td>car</td>\n",
       "      <td>18.37</td>\n",
       "      <td>0</td>\n",
       "      <td>NaN</td>\n",
       "      <td>9</td>\n",
       "      <td>14</td>\n",
       "      <td>Female</td>\n",
       "      <td>1</td>\n",
       "    </tr>\n",
       "    <tr>\n",
       "      <td>1</td>\n",
       "      <td>10000002</td>\n",
       "      <td>30,000</td>\n",
       "      <td>4 years</td>\n",
       "      <td>Mortgage</td>\n",
       "      <td>NaN</td>\n",
       "      <td>VERIFIED - income</td>\n",
       "      <td>debt_consolidation</td>\n",
       "      <td>14.93</td>\n",
       "      <td>0</td>\n",
       "      <td>17.0</td>\n",
       "      <td>12</td>\n",
       "      <td>24</td>\n",
       "      <td>Female</td>\n",
       "      <td>3</td>\n",
       "    </tr>\n",
       "    <tr>\n",
       "      <td>2</td>\n",
       "      <td>10000003</td>\n",
       "      <td>24,725</td>\n",
       "      <td>7 years</td>\n",
       "      <td>Mortgage</td>\n",
       "      <td>75566.4</td>\n",
       "      <td>VERIFIED - income source</td>\n",
       "      <td>debt_consolidation</td>\n",
       "      <td>15.88</td>\n",
       "      <td>0</td>\n",
       "      <td>NaN</td>\n",
       "      <td>12</td>\n",
       "      <td>16</td>\n",
       "      <td>Male</td>\n",
       "      <td>3</td>\n",
       "    </tr>\n",
       "    <tr>\n",
       "      <td>3</td>\n",
       "      <td>10000004</td>\n",
       "      <td>16,000</td>\n",
       "      <td>&lt; 1 year</td>\n",
       "      <td>NaN</td>\n",
       "      <td>56160.0</td>\n",
       "      <td>VERIFIED - income source</td>\n",
       "      <td>debt_consolidation</td>\n",
       "      <td>14.34</td>\n",
       "      <td>3</td>\n",
       "      <td>NaN</td>\n",
       "      <td>16</td>\n",
       "      <td>22</td>\n",
       "      <td>Male</td>\n",
       "      <td>3</td>\n",
       "    </tr>\n",
       "    <tr>\n",
       "      <td>4</td>\n",
       "      <td>10000005</td>\n",
       "      <td>17,000</td>\n",
       "      <td>8 years</td>\n",
       "      <td>Own</td>\n",
       "      <td>96000.0</td>\n",
       "      <td>VERIFIED - income source</td>\n",
       "      <td>debt_consolidation</td>\n",
       "      <td>22.17</td>\n",
       "      <td>1</td>\n",
       "      <td>NaN</td>\n",
       "      <td>19</td>\n",
       "      <td>30</td>\n",
       "      <td>Female</td>\n",
       "      <td>1</td>\n",
       "    </tr>\n",
       "  </tbody>\n",
       "</table>\n",
       "</div>"
      ],
      "text/plain": [
       "    Loan_ID Loan_Amount_Requested Length_Employed Home_Owner  Annual_Income  \\\n",
       "0  10000001                 7,000        < 1 year       Rent        68000.0   \n",
       "1  10000002                30,000         4 years   Mortgage            NaN   \n",
       "2  10000003                24,725         7 years   Mortgage        75566.4   \n",
       "3  10000004                16,000        < 1 year        NaN        56160.0   \n",
       "4  10000005                17,000         8 years        Own        96000.0   \n",
       "\n",
       "            Income_Verified     Purpose_Of_Loan  Debt_To_Income  \\\n",
       "0              not verified                 car           18.37   \n",
       "1         VERIFIED - income  debt_consolidation           14.93   \n",
       "2  VERIFIED - income source  debt_consolidation           15.88   \n",
       "3  VERIFIED - income source  debt_consolidation           14.34   \n",
       "4  VERIFIED - income source  debt_consolidation           22.17   \n",
       "\n",
       "   Inquiries_Last_6Mo  Months_Since_Deliquency  Number_Open_Accounts  \\\n",
       "0                   0                      NaN                     9   \n",
       "1                   0                     17.0                    12   \n",
       "2                   0                      NaN                    12   \n",
       "3                   3                      NaN                    16   \n",
       "4                   1                      NaN                    19   \n",
       "\n",
       "   Total_Accounts  Gender  Interest_Rate  \n",
       "0              14  Female              1  \n",
       "1              24  Female              3  \n",
       "2              16    Male              3  \n",
       "3              22    Male              3  \n",
       "4              30  Female              1  "
      ]
     },
     "execution_count": 155,
     "metadata": {},
     "output_type": "execute_result"
    }
   ],
   "source": [
    "# Have a look at first 5 data observations\n",
    "train.head()"
   ]
  },
  {
   "cell_type": "code",
   "execution_count": 156,
   "metadata": {},
   "outputs": [
    {
     "data": {
      "text/html": [
       "<div>\n",
       "<style scoped>\n",
       "    .dataframe tbody tr th:only-of-type {\n",
       "        vertical-align: middle;\n",
       "    }\n",
       "\n",
       "    .dataframe tbody tr th {\n",
       "        vertical-align: top;\n",
       "    }\n",
       "\n",
       "    .dataframe thead th {\n",
       "        text-align: right;\n",
       "    }\n",
       "</style>\n",
       "<table border=\"1\" class=\"dataframe\">\n",
       "  <thead>\n",
       "    <tr style=\"text-align: right;\">\n",
       "      <th></th>\n",
       "      <th>Loan_ID</th>\n",
       "      <th>Loan_Amount_Requested</th>\n",
       "      <th>Length_Employed</th>\n",
       "      <th>Home_Owner</th>\n",
       "      <th>Annual_Income</th>\n",
       "      <th>Income_Verified</th>\n",
       "      <th>Purpose_Of_Loan</th>\n",
       "      <th>Debt_To_Income</th>\n",
       "      <th>Inquiries_Last_6Mo</th>\n",
       "      <th>Months_Since_Deliquency</th>\n",
       "      <th>Number_Open_Accounts</th>\n",
       "      <th>Total_Accounts</th>\n",
       "      <th>Gender</th>\n",
       "      <th>Interest_Rate</th>\n",
       "    </tr>\n",
       "  </thead>\n",
       "  <tbody>\n",
       "    <tr>\n",
       "      <td>164304</td>\n",
       "      <td>10164305</td>\n",
       "      <td>20,725</td>\n",
       "      <td>10+ years</td>\n",
       "      <td>Rent</td>\n",
       "      <td>NaN</td>\n",
       "      <td>VERIFIED - income source</td>\n",
       "      <td>credit_card</td>\n",
       "      <td>13.56</td>\n",
       "      <td>0</td>\n",
       "      <td>NaN</td>\n",
       "      <td>13</td>\n",
       "      <td>16</td>\n",
       "      <td>Male</td>\n",
       "      <td>2</td>\n",
       "    </tr>\n",
       "    <tr>\n",
       "      <td>164305</td>\n",
       "      <td>10164306</td>\n",
       "      <td>6,000</td>\n",
       "      <td>8 years</td>\n",
       "      <td>Own</td>\n",
       "      <td>NaN</td>\n",
       "      <td>VERIFIED - income source</td>\n",
       "      <td>small_business</td>\n",
       "      <td>9.12</td>\n",
       "      <td>0</td>\n",
       "      <td>36.0</td>\n",
       "      <td>13</td>\n",
       "      <td>30</td>\n",
       "      <td>Male</td>\n",
       "      <td>2</td>\n",
       "    </tr>\n",
       "    <tr>\n",
       "      <td>164306</td>\n",
       "      <td>10164307</td>\n",
       "      <td>20,250</td>\n",
       "      <td>10+ years</td>\n",
       "      <td>Mortgage</td>\n",
       "      <td>NaN</td>\n",
       "      <td>VERIFIED - income</td>\n",
       "      <td>credit_card</td>\n",
       "      <td>18.17</td>\n",
       "      <td>1</td>\n",
       "      <td>NaN</td>\n",
       "      <td>17</td>\n",
       "      <td>30</td>\n",
       "      <td>Male</td>\n",
       "      <td>1</td>\n",
       "    </tr>\n",
       "    <tr>\n",
       "      <td>164307</td>\n",
       "      <td>10164308</td>\n",
       "      <td>10,000</td>\n",
       "      <td>4 years</td>\n",
       "      <td>Rent</td>\n",
       "      <td>NaN</td>\n",
       "      <td>not verified</td>\n",
       "      <td>major_purchase</td>\n",
       "      <td>18.75</td>\n",
       "      <td>1</td>\n",
       "      <td>48.0</td>\n",
       "      <td>16</td>\n",
       "      <td>62</td>\n",
       "      <td>Female</td>\n",
       "      <td>3</td>\n",
       "    </tr>\n",
       "    <tr>\n",
       "      <td>164308</td>\n",
       "      <td>10164309</td>\n",
       "      <td>9,250</td>\n",
       "      <td>10+ years</td>\n",
       "      <td>Rent</td>\n",
       "      <td>NaN</td>\n",
       "      <td>VERIFIED - income</td>\n",
       "      <td>credit_card</td>\n",
       "      <td>19.44</td>\n",
       "      <td>1</td>\n",
       "      <td>NaN</td>\n",
       "      <td>5</td>\n",
       "      <td>9</td>\n",
       "      <td>Female</td>\n",
       "      <td>2</td>\n",
       "    </tr>\n",
       "  </tbody>\n",
       "</table>\n",
       "</div>"
      ],
      "text/plain": [
       "         Loan_ID Loan_Amount_Requested Length_Employed Home_Owner  \\\n",
       "164304  10164305                20,725       10+ years       Rent   \n",
       "164305  10164306                 6,000         8 years        Own   \n",
       "164306  10164307                20,250       10+ years   Mortgage   \n",
       "164307  10164308                10,000         4 years       Rent   \n",
       "164308  10164309                 9,250       10+ years       Rent   \n",
       "\n",
       "        Annual_Income           Income_Verified Purpose_Of_Loan  \\\n",
       "164304            NaN  VERIFIED - income source     credit_card   \n",
       "164305            NaN  VERIFIED - income source  small_business   \n",
       "164306            NaN         VERIFIED - income     credit_card   \n",
       "164307            NaN              not verified  major_purchase   \n",
       "164308            NaN         VERIFIED - income     credit_card   \n",
       "\n",
       "        Debt_To_Income  Inquiries_Last_6Mo  Months_Since_Deliquency  \\\n",
       "164304           13.56                   0                      NaN   \n",
       "164305            9.12                   0                     36.0   \n",
       "164306           18.17                   1                      NaN   \n",
       "164307           18.75                   1                     48.0   \n",
       "164308           19.44                   1                      NaN   \n",
       "\n",
       "        Number_Open_Accounts  Total_Accounts  Gender  Interest_Rate  \n",
       "164304                    13              16    Male              2  \n",
       "164305                    13              30    Male              2  \n",
       "164306                    17              30    Male              1  \n",
       "164307                    16              62  Female              3  \n",
       "164308                     5               9  Female              2  "
      ]
     },
     "execution_count": 156,
     "metadata": {},
     "output_type": "execute_result"
    }
   ],
   "source": [
    "# Have a look at last 5 data observations\n",
    "train.tail()"
   ]
  },
  {
   "cell_type": "code",
   "execution_count": 157,
   "metadata": {},
   "outputs": [],
   "source": [
    "train['Length_Employed'] = train['Length_Employed'].str.replace('<','')\n",
    "train['Length_Employed'] = train['Length_Employed'].str.replace('+','')\n",
    "train['Length_Employed'] = train['Length_Employed'].str.replace('year','')\n",
    "train['Length_Employed'] = train['Length_Employed'].str.replace('s','')"
   ]
  },
  {
   "cell_type": "code",
   "execution_count": 158,
   "metadata": {},
   "outputs": [
    {
     "data": {
      "text/plain": [
       "Months_Since_Deliquency    0.537883\n",
       "Home_Owner                 0.154276\n",
       "Annual_Income              0.152773\n",
       "Length_Employed            0.044861\n",
       "Interest_Rate              0.000000\n",
       "Gender                     0.000000\n",
       "Total_Accounts             0.000000\n",
       "Number_Open_Accounts       0.000000\n",
       "Inquiries_Last_6Mo         0.000000\n",
       "Debt_To_Income             0.000000\n",
       "Purpose_Of_Loan            0.000000\n",
       "Income_Verified            0.000000\n",
       "Loan_Amount_Requested      0.000000\n",
       "Loan_ID                    0.000000\n",
       "dtype: float64"
      ]
     },
     "execution_count": 158,
     "metadata": {},
     "output_type": "execute_result"
    }
   ],
   "source": [
    "train.isnull().mean().sort_values(ascending = False)"
   ]
  },
  {
   "cell_type": "code",
   "execution_count": 159,
   "metadata": {},
   "outputs": [
    {
     "name": "stdout",
     "output_type": "stream",
     "text": [
      "Test shape: (109541, 13)\n"
     ]
    }
   ],
   "source": [
    "# Read test data\n",
    "test = pd.read_csv('test.csv')\n",
    "\n",
    "# Have a first look at test data\n",
    "print('Test shape:', test.shape)"
   ]
  },
  {
   "cell_type": "code",
   "execution_count": 160,
   "metadata": {},
   "outputs": [
    {
     "name": "stdout",
     "output_type": "stream",
     "text": [
      "Train columns: ['Loan_ID', 'Loan_Amount_Requested', 'Length_Employed', 'Home_Owner', 'Annual_Income', 'Income_Verified', 'Purpose_Of_Loan', 'Debt_To_Income', 'Inquiries_Last_6Mo', 'Months_Since_Deliquency', 'Number_Open_Accounts', 'Total_Accounts', 'Gender', 'Interest_Rate']\n",
      "Test columns: ['Loan_ID', 'Loan_Amount_Requested', 'Length_Employed', 'Home_Owner', 'Annual_Income', 'Income_Verified', 'Purpose_Of_Loan', 'Debt_To_Income', 'Inquiries_Last_6Mo', 'Months_Since_Deliquency', 'Number_Open_Accounts', 'Total_Accounts', 'Gender']\n"
     ]
    }
   ],
   "source": [
    "# Have a look at train and test columns\n",
    "print('Train columns:', train.columns.tolist())\n",
    "print('Test columns:', test.columns.tolist())"
   ]
  },
  {
   "cell_type": "code",
   "execution_count": 161,
   "metadata": {},
   "outputs": [],
   "source": [
    "# Load our plotting libraries\n",
    "import matplotlib.pyplot as plt\n",
    "import seaborn as sns"
   ]
  },
  {
   "cell_type": "code",
   "execution_count": 162,
   "metadata": {},
   "outputs": [
    {
     "data": {
      "text/plain": [
       "<matplotlib.axes._subplots.AxesSubplot at 0x7fbea5f4b310>"
      ]
     },
     "execution_count": 162,
     "metadata": {},
     "output_type": "execute_result"
    },
    {
     "data": {
      "image/png": "[encoded data removed]",
      "text/plain": [
       "<Figure size 432x288 with 1 Axes>"
      ]
     },
     "metadata": {
      "needs_background": "light"
     },
     "output_type": "display_data"
    }
   ],
   "source": [
    "# Countplot for 'Interest_Rate' variable\n",
    "sns.countplot(train['Interest_Rate'])"
   ]
  },
  {
   "cell_type": "code",
   "execution_count": 163,
   "metadata": {},
   "outputs": [
    {
     "data": {
      "text/plain": [
       "2.16"
      ]
     },
     "execution_count": 163,
     "metadata": {},
     "output_type": "execute_result"
    }
   ],
   "source": [
    "# Let's calculate the mean of our target\n",
    "round(np.mean(train['Interest_Rate']), 2)"
   ]
  },
  {
   "cell_type": "code",
   "execution_count": 164,
   "metadata": {},
   "outputs": [],
   "source": [
    "# Convert to numeric\n",
    "train[\"Loan_Amount_Requested\"] = train[\"Loan_Amount_Requested\"].str.replace(\",\", \"\")\n",
    "train[\"Loan_Amount_Requested\"] = pd.to_numeric(train[\"Loan_Amount_Requested\"])\n",
    "test[\"Loan_Amount_Requested\"] = test[\"Loan_Amount_Requested\"].str.replace(\",\", \"\")\n",
    "test[\"Loan_Amount_Requested\"] = pd.to_numeric(test[\"Loan_Amount_Requested\"])"
   ]
  },
  {
   "cell_type": "code",
   "execution_count": 165,
   "metadata": {},
   "outputs": [],
   "source": [
    "test['Length_Employed'] = test['Length_Employed'].str.replace('<','')\n",
    "test['Length_Employed'] = test['Length_Employed'].str.replace('+','')\n",
    "test['Length_Employed'] = test['Length_Employed'].str.replace('year','')\n",
    "test['Length_Employed'] = test['Length_Employed'].str.replace('s','')"
   ]
  },
  {
   "cell_type": "code",
   "execution_count": 166,
   "metadata": {},
   "outputs": [],
   "source": [
    "# Predict!\n",
    "#test['Interest_Rate'] = logisticRegression.predict(pd.get_dummies(test['Gender']))"
   ]
  },
  {
   "cell_type": "code",
   "execution_count": 167,
   "metadata": {},
   "outputs": [],
   "source": [
    "# Write test predictions for final submission\n",
    "#test[['Loan_ID', 'Interest_Rate']].to_csv('First_Prediction.csv', index = False)"
   ]
  },
  {
   "cell_type": "markdown",
   "metadata": {},
   "source": [
    "Let's remember what happens with missing values..."
   ]
  },
  {
   "cell_type": "code",
   "execution_count": 168,
   "metadata": {},
   "outputs": [
    {
     "data": {
      "text/plain": [
       "<matplotlib.axes._subplots.AxesSubplot at 0x7fbe52a2bb50>"
      ]
     },
     "execution_count": 168,
     "metadata": {},
     "output_type": "execute_result"
    },
    {
     "data": {
      "image/png": "[encoded data removed]",
      "text/plain": [
       "<Figure size 432x288 with 1 Axes>"
      ]
     },
     "metadata": {
      "needs_background": "light"
     },
     "output_type": "display_data"
    }
   ],
   "source": [
    "# Excuse me, can we have a plot please?!\n",
    "sns.heatmap(train.isnull(), yticklabels = False, cbar = False, cmap = 'plasma')"
   ]
  },
  {
   "cell_type": "markdown",
   "metadata": {},
   "source": [
    "OK! The rule of thumb is that it is better to impute the missing values rather than ditch the features altogether. After all, there is still some info hidden in these features... After the following analysis, we will conclude that we can easily impute these missing values."
   ]
  },
  {
   "cell_type": "code",
   "execution_count": 169,
   "metadata": {},
   "outputs": [
    {
     "data": {
      "text/html": [
       "<div>\n",
       "<style scoped>\n",
       "    .dataframe tbody tr th:only-of-type {\n",
       "        vertical-align: middle;\n",
       "    }\n",
       "\n",
       "    .dataframe tbody tr th {\n",
       "        vertical-align: top;\n",
       "    }\n",
       "\n",
       "    .dataframe thead th {\n",
       "        text-align: right;\n",
       "    }\n",
       "</style>\n",
       "<table border=\"1\" class=\"dataframe\">\n",
       "  <thead>\n",
       "    <tr style=\"text-align: right;\">\n",
       "      <th></th>\n",
       "      <th>Loan_ID</th>\n",
       "      <th>Loan_Amount_Requested</th>\n",
       "      <th>Length_Employed</th>\n",
       "      <th>Home_Owner</th>\n",
       "      <th>Annual_Income</th>\n",
       "      <th>Income_Verified</th>\n",
       "      <th>Purpose_Of_Loan</th>\n",
       "      <th>Debt_To_Income</th>\n",
       "      <th>Inquiries_Last_6Mo</th>\n",
       "      <th>Months_Since_Deliquency</th>\n",
       "      <th>Number_Open_Accounts</th>\n",
       "      <th>Total_Accounts</th>\n",
       "      <th>Gender</th>\n",
       "      <th>Interest_Rate</th>\n",
       "    </tr>\n",
       "  </thead>\n",
       "  <tbody>\n",
       "    <tr>\n",
       "      <td>count</td>\n",
       "      <td>1.643090e+05</td>\n",
       "      <td>164309.00000</td>\n",
       "      <td>156938</td>\n",
       "      <td>138960</td>\n",
       "      <td>1.392070e+05</td>\n",
       "      <td>164309</td>\n",
       "      <td>164309</td>\n",
       "      <td>164309.000000</td>\n",
       "      <td>164309.000000</td>\n",
       "      <td>75930.000000</td>\n",
       "      <td>164309.000000</td>\n",
       "      <td>164309.000000</td>\n",
       "      <td>164309</td>\n",
       "      <td>164309.000000</td>\n",
       "    </tr>\n",
       "    <tr>\n",
       "      <td>unique</td>\n",
       "      <td>NaN</td>\n",
       "      <td>NaN</td>\n",
       "      <td>11</td>\n",
       "      <td>5</td>\n",
       "      <td>NaN</td>\n",
       "      <td>3</td>\n",
       "      <td>14</td>\n",
       "      <td>NaN</td>\n",
       "      <td>NaN</td>\n",
       "      <td>NaN</td>\n",
       "      <td>NaN</td>\n",
       "      <td>NaN</td>\n",
       "      <td>2</td>\n",
       "      <td>NaN</td>\n",
       "    </tr>\n",
       "    <tr>\n",
       "      <td>top</td>\n",
       "      <td>NaN</td>\n",
       "      <td>NaN</td>\n",
       "      <td>10</td>\n",
       "      <td>Mortgage</td>\n",
       "      <td>NaN</td>\n",
       "      <td>VERIFIED - income</td>\n",
       "      <td>debt_consolidation</td>\n",
       "      <td>NaN</td>\n",
       "      <td>NaN</td>\n",
       "      <td>NaN</td>\n",
       "      <td>NaN</td>\n",
       "      <td>NaN</td>\n",
       "      <td>Male</td>\n",
       "      <td>NaN</td>\n",
       "    </tr>\n",
       "    <tr>\n",
       "      <td>freq</td>\n",
       "      <td>NaN</td>\n",
       "      <td>NaN</td>\n",
       "      <td>52915</td>\n",
       "      <td>70345</td>\n",
       "      <td>NaN</td>\n",
       "      <td>59421</td>\n",
       "      <td>97101</td>\n",
       "      <td>NaN</td>\n",
       "      <td>NaN</td>\n",
       "      <td>NaN</td>\n",
       "      <td>NaN</td>\n",
       "      <td>NaN</td>\n",
       "      <td>117176</td>\n",
       "      <td>NaN</td>\n",
       "    </tr>\n",
       "    <tr>\n",
       "      <td>mean</td>\n",
       "      <td>1.008216e+07</td>\n",
       "      <td>14349.33692</td>\n",
       "      <td>NaN</td>\n",
       "      <td>NaN</td>\n",
       "      <td>7.333116e+04</td>\n",
       "      <td>NaN</td>\n",
       "      <td>NaN</td>\n",
       "      <td>17.207189</td>\n",
       "      <td>0.781698</td>\n",
       "      <td>34.229356</td>\n",
       "      <td>11.193818</td>\n",
       "      <td>25.067665</td>\n",
       "      <td>NaN</td>\n",
       "      <td>2.158951</td>\n",
       "    </tr>\n",
       "    <tr>\n",
       "      <td>std</td>\n",
       "      <td>4.743207e+04</td>\n",
       "      <td>8281.86870</td>\n",
       "      <td>NaN</td>\n",
       "      <td>NaN</td>\n",
       "      <td>6.037750e+04</td>\n",
       "      <td>NaN</td>\n",
       "      <td>NaN</td>\n",
       "      <td>7.845083</td>\n",
       "      <td>1.034747</td>\n",
       "      <td>21.761180</td>\n",
       "      <td>4.991813</td>\n",
       "      <td>11.583067</td>\n",
       "      <td>NaN</td>\n",
       "      <td>0.738364</td>\n",
       "    </tr>\n",
       "    <tr>\n",
       "      <td>min</td>\n",
       "      <td>1.000000e+07</td>\n",
       "      <td>500.00000</td>\n",
       "      <td>NaN</td>\n",
       "      <td>NaN</td>\n",
       "      <td>4.000000e+03</td>\n",
       "      <td>NaN</td>\n",
       "      <td>NaN</td>\n",
       "      <td>0.000000</td>\n",
       "      <td>0.000000</td>\n",
       "      <td>0.000000</td>\n",
       "      <td>0.000000</td>\n",
       "      <td>2.000000</td>\n",
       "      <td>NaN</td>\n",
       "      <td>1.000000</td>\n",
       "    </tr>\n",
       "    <tr>\n",
       "      <td>25%</td>\n",
       "      <td>1.004108e+07</td>\n",
       "      <td>8000.00000</td>\n",
       "      <td>NaN</td>\n",
       "      <td>NaN</td>\n",
       "      <td>4.500000e+04</td>\n",
       "      <td>NaN</td>\n",
       "      <td>NaN</td>\n",
       "      <td>11.370000</td>\n",
       "      <td>0.000000</td>\n",
       "      <td>16.000000</td>\n",
       "      <td>8.000000</td>\n",
       "      <td>17.000000</td>\n",
       "      <td>NaN</td>\n",
       "      <td>2.000000</td>\n",
       "    </tr>\n",
       "    <tr>\n",
       "      <td>50%</td>\n",
       "      <td>1.008216e+07</td>\n",
       "      <td>12075.00000</td>\n",
       "      <td>NaN</td>\n",
       "      <td>NaN</td>\n",
       "      <td>6.300000e+04</td>\n",
       "      <td>NaN</td>\n",
       "      <td>NaN</td>\n",
       "      <td>16.840000</td>\n",
       "      <td>0.000000</td>\n",
       "      <td>31.000000</td>\n",
       "      <td>10.000000</td>\n",
       "      <td>23.000000</td>\n",
       "      <td>NaN</td>\n",
       "      <td>2.000000</td>\n",
       "    </tr>\n",
       "    <tr>\n",
       "      <td>75%</td>\n",
       "      <td>1.012323e+07</td>\n",
       "      <td>20000.00000</td>\n",
       "      <td>NaN</td>\n",
       "      <td>NaN</td>\n",
       "      <td>8.869750e+04</td>\n",
       "      <td>NaN</td>\n",
       "      <td>NaN</td>\n",
       "      <td>22.780000</td>\n",
       "      <td>1.000000</td>\n",
       "      <td>50.000000</td>\n",
       "      <td>14.000000</td>\n",
       "      <td>32.000000</td>\n",
       "      <td>NaN</td>\n",
       "      <td>3.000000</td>\n",
       "    </tr>\n",
       "    <tr>\n",
       "      <td>max</td>\n",
       "      <td>1.016431e+07</td>\n",
       "      <td>35000.00000</td>\n",
       "      <td>NaN</td>\n",
       "      <td>NaN</td>\n",
       "      <td>7.500000e+06</td>\n",
       "      <td>NaN</td>\n",
       "      <td>NaN</td>\n",
       "      <td>39.990000</td>\n",
       "      <td>8.000000</td>\n",
       "      <td>180.000000</td>\n",
       "      <td>76.000000</td>\n",
       "      <td>156.000000</td>\n",
       "      <td>NaN</td>\n",
       "      <td>3.000000</td>\n",
       "    </tr>\n",
       "  </tbody>\n",
       "</table>\n",
       "</div>"
      ],
      "text/plain": [
       "             Loan_ID  Loan_Amount_Requested Length_Employed Home_Owner  \\\n",
       "count   1.643090e+05           164309.00000          156938     138960   \n",
       "unique           NaN                    NaN              11          5   \n",
       "top              NaN                    NaN             10    Mortgage   \n",
       "freq             NaN                    NaN           52915      70345   \n",
       "mean    1.008216e+07            14349.33692             NaN        NaN   \n",
       "std     4.743207e+04             8281.86870             NaN        NaN   \n",
       "min     1.000000e+07              500.00000             NaN        NaN   \n",
       "25%     1.004108e+07             8000.00000             NaN        NaN   \n",
       "50%     1.008216e+07            12075.00000             NaN        NaN   \n",
       "75%     1.012323e+07            20000.00000             NaN        NaN   \n",
       "max     1.016431e+07            35000.00000             NaN        NaN   \n",
       "\n",
       "        Annual_Income    Income_Verified     Purpose_Of_Loan  Debt_To_Income  \\\n",
       "count    1.392070e+05             164309              164309   164309.000000   \n",
       "unique            NaN                  3                  14             NaN   \n",
       "top               NaN  VERIFIED - income  debt_consolidation             NaN   \n",
       "freq              NaN              59421               97101             NaN   \n",
       "mean     7.333116e+04                NaN                 NaN       17.207189   \n",
       "std      6.037750e+04                NaN                 NaN        7.845083   \n",
       "min      4.000000e+03                NaN                 NaN        0.000000   \n",
       "25%      4.500000e+04                NaN                 NaN       11.370000   \n",
       "50%      6.300000e+04                NaN                 NaN       16.840000   \n",
       "75%      8.869750e+04                NaN                 NaN       22.780000   \n",
       "max      7.500000e+06                NaN                 NaN       39.990000   \n",
       "\n",
       "        Inquiries_Last_6Mo  Months_Since_Deliquency  Number_Open_Accounts  \\\n",
       "count        164309.000000             75930.000000         164309.000000   \n",
       "unique                 NaN                      NaN                   NaN   \n",
       "top                    NaN                      NaN                   NaN   \n",
       "freq                   NaN                      NaN                   NaN   \n",
       "mean              0.781698                34.229356             11.193818   \n",
       "std               1.034747                21.761180              4.991813   \n",
       "min               0.000000                 0.000000              0.000000   \n",
       "25%               0.000000                16.000000              8.000000   \n",
       "50%               0.000000                31.000000             10.000000   \n",
       "75%               1.000000                50.000000             14.000000   \n",
       "max               8.000000               180.000000             76.000000   \n",
       "\n",
       "        Total_Accounts  Gender  Interest_Rate  \n",
       "count    164309.000000  164309  164309.000000  \n",
       "unique             NaN       2            NaN  \n",
       "top                NaN    Male            NaN  \n",
       "freq               NaN  117176            NaN  \n",
       "mean         25.067665     NaN       2.158951  \n",
       "std          11.583067     NaN       0.738364  \n",
       "min           2.000000     NaN       1.000000  \n",
       "25%          17.000000     NaN       2.000000  \n",
       "50%          23.000000     NaN       2.000000  \n",
       "75%          32.000000     NaN       3.000000  \n",
       "max         156.000000     NaN       3.000000  "
      ]
     },
     "execution_count": 169,
     "metadata": {},
     "output_type": "execute_result"
    }
   ],
   "source": [
    "train.describe(include = 'all')"
   ]
  },
  {
   "cell_type": "markdown",
   "metadata": {},
   "source": [
    "Quite informative, well, apart from the NaNs, but a good idea here would be to examine each feature separately, given that they are not too many!"
   ]
  },
  {
   "cell_type": "code",
   "execution_count": 170,
   "metadata": {},
   "outputs": [
    {
     "data": {
      "text/plain": [
       "<matplotlib.axes._subplots.AxesSubplot at 0x7fbea60676d0>"
      ]
     },
     "execution_count": 170,
     "metadata": {},
     "output_type": "execute_result"
    },
    {
     "data": {
      "image/png": "[encoded data removed]",
      "text/plain": [
       "<Figure size 864x576 with 1 Axes>"
      ]
     },
     "metadata": {
      "needs_background": "light"
     },
     "output_type": "display_data"
    }
   ],
   "source": [
    "fig = plt.figure(figsize=(12,8))\n",
    "sns.countplot(train['Length_Employed'])"
   ]
  },
  {
   "cell_type": "code",
   "execution_count": 171,
   "metadata": {},
   "outputs": [
    {
     "data": {
      "text/plain": [
       "<matplotlib.axes._subplots.AxesSubplot at 0x7fbea60b7a10>"
      ]
     },
     "execution_count": 171,
     "metadata": {},
     "output_type": "execute_result"
    },
    {
     "data": {
      "image/png": "[encoded data removed]",
      "text/plain": [
       "<Figure size 864x576 with 1 Axes>"
      ]
     },
     "metadata": {
      "needs_background": "light"
     },
     "output_type": "display_data"
    }
   ],
   "source": [
    "fig = plt.figure(figsize=(12,8))\n",
    "sns.countplot(train['Home_Owner'])"
   ]
  },
  {
   "cell_type": "code",
   "execution_count": 172,
   "metadata": {},
   "outputs": [
    {
     "data": {
      "text/plain": [
       "<matplotlib.axes._subplots.AxesSubplot at 0x7fbea601bc10>"
      ]
     },
     "execution_count": 172,
     "metadata": {},
     "output_type": "execute_result"
    },
    {
     "data": {
      "image/png": "[encoded data removed]",
      "text/plain": [
       "<Figure size 864x576 with 1 Axes>"
      ]
     },
     "metadata": {
      "needs_background": "light"
     },
     "output_type": "display_data"
    }
   ],
   "source": [
    "fig = plt.figure(figsize=(12,8))\n",
    "sns.countplot(train['Income_Verified'])"
   ]
  },
  {
   "cell_type": "code",
   "execution_count": 173,
   "metadata": {},
   "outputs": [
    {
     "data": {
      "text/plain": [
       "<matplotlib.axes._subplots.AxesSubplot at 0x7fbea5f70ed0>"
      ]
     },
     "execution_count": 173,
     "metadata": {},
     "output_type": "execute_result"
    },
    {
     "data": {
      "image/png": "[encoded data removed]",
      "text/plain": [
       "<Figure size 1080x576 with 1 Axes>"
      ]
     },
     "metadata": {
      "needs_background": "light"
     },
     "output_type": "display_data"
    }
   ],
   "source": [
    "fig = plt.figure(figsize=(15,8))\n",
    "sns.countplot(train['Purpose_Of_Loan'])"
   ]
  },
  {
   "cell_type": "code",
   "execution_count": 174,
   "metadata": {},
   "outputs": [
    {
     "data": {
      "text/plain": [
       "<matplotlib.axes._subplots.AxesSubplot at 0x7fbe52a22f50>"
      ]
     },
     "execution_count": 174,
     "metadata": {},
     "output_type": "execute_result"
    },
    {
     "data": {
      "image/png": "[encoded data removed]",
      "text/plain": [
       "<Figure size 432x288 with 1 Axes>"
      ]
     },
     "metadata": {
      "needs_background": "light"
     },
     "output_type": "display_data"
    }
   ],
   "source": [
    "# Plot 'Debt_To_Income' histogram\n",
    "train['Debt_To_Income'].hist(bins = 50, color = 'blue')"
   ]
  },
  {
   "cell_type": "code",
   "execution_count": 175,
   "metadata": {},
   "outputs": [
    {
     "data": {
      "text/plain": [
       "<matplotlib.axes._subplots.AxesSubplot at 0x7fbe52a02c90>"
      ]
     },
     "execution_count": 175,
     "metadata": {},
     "output_type": "execute_result"
    },
    {
     "data": {
      "image/png": "[encoded data removed]",
      "text/plain": [
       "<Figure size 432x288 with 1 Axes>"
      ]
     },
     "metadata": {
      "needs_background": "light"
     },
     "output_type": "display_data"
    }
   ],
   "source": [
    "# Plot 'Annual_Income' histogram\n",
    "train['Annual_Income'].hist(bins = 50, color = 'blue')"
   ]
  },
  {
   "cell_type": "code",
   "execution_count": 176,
   "metadata": {},
   "outputs": [
    {
     "data": {
      "text/plain": [
       "<matplotlib.axes._subplots.AxesSubplot at 0x7fbe529e7f50>"
      ]
     },
     "execution_count": 176,
     "metadata": {},
     "output_type": "execute_result"
    },
    {
     "data": {
      "image/png": "[encoded data removed]",
      "text/plain": [
       "<Figure size 432x288 with 1 Axes>"
      ]
     },
     "metadata": {
      "needs_background": "light"
     },
     "output_type": "display_data"
    }
   ],
   "source": [
    "# Plot 'Months_Since_Deliquency' histogram\n",
    "train['Months_Since_Deliquency'].hist(bins = 50, color = 'blue')"
   ]
  },
  {
   "cell_type": "code",
   "execution_count": 177,
   "metadata": {},
   "outputs": [
    {
     "data": {
      "text/plain": [
       "<matplotlib.axes._subplots.AxesSubplot at 0x7fbe529c8990>"
      ]
     },
     "execution_count": 177,
     "metadata": {},
     "output_type": "execute_result"
    },
    {
     "data": {
      "image/png": "[encoded data removed]",
      "text/plain": [
       "<Figure size 432x288 with 1 Axes>"
      ]
     },
     "metadata": {
      "needs_background": "light"
     },
     "output_type": "display_data"
    }
   ],
   "source": [
    "# Plot 'Inquiries_Last_6Mo' histogram\n",
    "train['Inquiries_Last_6Mo'].hist(bins = 50, color = 'blue')"
   ]
  },
  {
   "cell_type": "code",
   "execution_count": 178,
   "metadata": {},
   "outputs": [
    {
     "data": {
      "text/plain": [
       "(9.0, 0.0)"
      ]
     },
     "execution_count": 178,
     "metadata": {},
     "output_type": "execute_result"
    },
    {
     "data": {
      "image/png": "[encoded data removed]",
      "text/plain": [
       "<Figure size 1080x720 with 2 Axes>"
      ]
     },
     "metadata": {
      "needs_background": "light"
     },
     "output_type": "display_data"
    }
   ],
   "source": [
    "plt.figure(figsize = (15,10))\n",
    "ax = sns.heatmap(train.corr(), annot = True)\n",
    "bottom, top = ax.get_ylim()\n",
    "ax.set_ylim(bottom + 0.5, top - 0.5)"
   ]
  },
  {
   "cell_type": "markdown",
   "metadata": {},
   "source": [
    "Number_Open_Accounts and Total_Accounts are highly correlated. But fortunately the correlations are pretty low, so we don't have to worry about high multicollinearity! "
   ]
  },
  {
   "cell_type": "code",
   "execution_count": 179,
   "metadata": {},
   "outputs": [
    {
     "data": {
      "text/plain": [
       "Index(['Loan_ID', 'Loan_Amount_Requested', 'Annual_Income', 'Debt_To_Income',\n",
       "       'Inquiries_Last_6Mo', 'Months_Since_Deliquency', 'Number_Open_Accounts',\n",
       "       'Total_Accounts', 'Interest_Rate'],\n",
       "      dtype='object')"
      ]
     },
     "execution_count": 179,
     "metadata": {},
     "output_type": "execute_result"
    }
   ],
   "source": [
    "feature_num = train.select_dtypes(include=[np.number])\n",
    "feature_num.columns"
   ]
  },
  {
   "cell_type": "code",
   "execution_count": 180,
   "metadata": {},
   "outputs": [
    {
     "data": {
      "text/plain": [
       "Index(['Length_Employed', 'Home_Owner', 'Income_Verified', 'Purpose_Of_Loan',\n",
       "       'Gender'],\n",
       "      dtype='object')"
      ]
     },
     "execution_count": 180,
     "metadata": {},
     "output_type": "execute_result"
    }
   ],
   "source": [
    "feature_cat = train.select_dtypes(include=[np.object])\n",
    "feature_cat.columns"
   ]
  },
  {
   "cell_type": "code",
   "execution_count": 181,
   "metadata": {},
   "outputs": [],
   "source": [
    "df = [train, test]"
   ]
  },
  {
   "cell_type": "code",
   "execution_count": 182,
   "metadata": {},
   "outputs": [],
   "source": [
    "for dataset in df:\n",
    "    dataset.drop(['Loan_ID'], axis=1, inplace=True)"
   ]
  },
  {
   "cell_type": "code",
   "execution_count": 183,
   "metadata": {},
   "outputs": [],
   "source": [
    "train[\"Length_Employed\"].fillna('NaN', inplace=True)\n",
    "test[\"Length_Employed\"].fillna('NaN', inplace=True)\n",
    "\n",
    "train[\"Home_Owner\"].fillna('NaN', inplace=True)\n",
    "test[\"Home_Owner\"].fillna('NaN', inplace=True)\n",
    "\n",
    "train[\"Income_Verified\"].fillna('NaN', inplace=True)\n",
    "test[\"Income_Verified\"].fillna('NaN', inplace=True)\n",
    "\n",
    "train[\"Purpose_Of_Loan\"].fillna('NaN', inplace=True)\n",
    "test[\"Purpose_Of_Loan\"].fillna('NaN', inplace=True)\n",
    "\n",
    "train[\"Gender\"].fillna('NaN', inplace=True)\n",
    "test[\"Gender\"].fillna('NaN', inplace=True)\n",
    "\n",
    "train[\"Annual_Income\"].fillna(train[\"Annual_Income\"].mean(), inplace=True)\n",
    "test[\"Annual_Income\"].fillna(test[\"Annual_Income\"].mean(), inplace=True)\n",
    "\n",
    "train[\"Months_Since_Deliquency\"].fillna(0, inplace=True)\n",
    "test[\"Months_Since_Deliquency\"].fillna(0, inplace=True)"
   ]
  },
  {
   "cell_type": "code",
   "execution_count": 184,
   "metadata": {},
   "outputs": [
    {
     "data": {
      "text/plain": [
       "Gender                     0\n",
       "Total_Accounts             0\n",
       "Number_Open_Accounts       0\n",
       "Months_Since_Deliquency    0\n",
       "Inquiries_Last_6Mo         0\n",
       "Debt_To_Income             0\n",
       "Purpose_Of_Loan            0\n",
       "Income_Verified            0\n",
       "Annual_Income              0\n",
       "Home_Owner                 0\n",
       "Length_Employed            0\n",
       "Loan_Amount_Requested      0\n",
       "dtype: int64"
      ]
     },
     "execution_count": 184,
     "metadata": {},
     "output_type": "execute_result"
    }
   ],
   "source": [
    "test.isnull().sum().sort_values(ascending = False)"
   ]
  },
  {
   "cell_type": "code",
   "execution_count": 185,
   "metadata": {},
   "outputs": [
    {
     "data": {
      "text/plain": [
       "(109541, 12)"
      ]
     },
     "execution_count": 185,
     "metadata": {},
     "output_type": "execute_result"
    }
   ],
   "source": [
    "test.shape"
   ]
  },
  {
   "cell_type": "code",
   "execution_count": 186,
   "metadata": {},
   "outputs": [
    {
     "data": {
      "text/plain": [
       "Gender                     0\n",
       "Total_Accounts             0\n",
       "Number_Open_Accounts       0\n",
       "Months_Since_Deliquency    0\n",
       "Inquiries_Last_6Mo         0\n",
       "Debt_To_Income             0\n",
       "Purpose_Of_Loan            0\n",
       "Income_Verified            0\n",
       "Annual_Income              0\n",
       "Home_Owner                 0\n",
       "Length_Employed            0\n",
       "Loan_Amount_Requested      0\n",
       "dtype: int64"
      ]
     },
     "execution_count": 186,
     "metadata": {},
     "output_type": "execute_result"
    }
   ],
   "source": [
    "test.isnull().sum().sort_values(ascending = False)"
   ]
  },
  {
   "cell_type": "code",
   "execution_count": 187,
   "metadata": {},
   "outputs": [
    {
     "data": {
      "text/plain": [
       "(164309, 13)"
      ]
     },
     "execution_count": 187,
     "metadata": {},
     "output_type": "execute_result"
    }
   ],
   "source": [
    "train.shape"
   ]
  },
  {
   "cell_type": "code",
   "execution_count": 188,
   "metadata": {},
   "outputs": [
    {
     "data": {
      "text/plain": [
       "(273850, 13)"
      ]
     },
     "execution_count": 188,
     "metadata": {},
     "output_type": "execute_result"
    }
   ],
   "source": [
    "full = pd.concat([train, test])\n",
    "full.shape"
   ]
  },
  {
   "cell_type": "code",
   "execution_count": 189,
   "metadata": {},
   "outputs": [
    {
     "data": {
      "text/plain": [
       "(273850, 40)"
      ]
     },
     "execution_count": 189,
     "metadata": {},
     "output_type": "execute_result"
    }
   ],
   "source": [
    "full = pd.get_dummies(full, drop_first=True)\n",
    "full.shape"
   ]
  },
  {
   "cell_type": "code",
   "execution_count": 190,
   "metadata": {},
   "outputs": [
    {
     "data": {
      "text/html": [
       "<div>\n",
       "<style scoped>\n",
       "    .dataframe tbody tr th:only-of-type {\n",
       "        vertical-align: middle;\n",
       "    }\n",
       "\n",
       "    .dataframe tbody tr th {\n",
       "        vertical-align: top;\n",
       "    }\n",
       "\n",
       "    .dataframe thead th {\n",
       "        text-align: right;\n",
       "    }\n",
       "</style>\n",
       "<table border=\"1\" class=\"dataframe\">\n",
       "  <thead>\n",
       "    <tr style=\"text-align: right;\">\n",
       "      <th></th>\n",
       "      <th>Annual_Income</th>\n",
       "      <th>Debt_To_Income</th>\n",
       "      <th>Inquiries_Last_6Mo</th>\n",
       "      <th>Interest_Rate</th>\n",
       "      <th>Loan_Amount_Requested</th>\n",
       "      <th>Months_Since_Deliquency</th>\n",
       "      <th>Number_Open_Accounts</th>\n",
       "      <th>Total_Accounts</th>\n",
       "      <th>Gender_Male</th>\n",
       "      <th>Home_Owner_NaN</th>\n",
       "      <th>...</th>\n",
       "      <th>Purpose_Of_Loan_home_improvement</th>\n",
       "      <th>Purpose_Of_Loan_house</th>\n",
       "      <th>Purpose_Of_Loan_major_purchase</th>\n",
       "      <th>Purpose_Of_Loan_medical</th>\n",
       "      <th>Purpose_Of_Loan_moving</th>\n",
       "      <th>Purpose_Of_Loan_other</th>\n",
       "      <th>Purpose_Of_Loan_renewable_energy</th>\n",
       "      <th>Purpose_Of_Loan_small_business</th>\n",
       "      <th>Purpose_Of_Loan_vacation</th>\n",
       "      <th>Purpose_Of_Loan_wedding</th>\n",
       "    </tr>\n",
       "  </thead>\n",
       "  <tbody>\n",
       "    <tr>\n",
       "      <td>0</td>\n",
       "      <td>129000.0</td>\n",
       "      <td>12.87</td>\n",
       "      <td>0</td>\n",
       "      <td>NaN</td>\n",
       "      <td>27500</td>\n",
       "      <td>68.0</td>\n",
       "      <td>10</td>\n",
       "      <td>37</td>\n",
       "      <td>1</td>\n",
       "      <td>0</td>\n",
       "      <td>...</td>\n",
       "      <td>0</td>\n",
       "      <td>0</td>\n",
       "      <td>0</td>\n",
       "      <td>0</td>\n",
       "      <td>0</td>\n",
       "      <td>0</td>\n",
       "      <td>0</td>\n",
       "      <td>0</td>\n",
       "      <td>0</td>\n",
       "      <td>0</td>\n",
       "    </tr>\n",
       "    <tr>\n",
       "      <td>1</td>\n",
       "      <td>110000.0</td>\n",
       "      <td>11.37</td>\n",
       "      <td>0</td>\n",
       "      <td>NaN</td>\n",
       "      <td>26000</td>\n",
       "      <td>0.0</td>\n",
       "      <td>6</td>\n",
       "      <td>23</td>\n",
       "      <td>1</td>\n",
       "      <td>1</td>\n",
       "      <td>...</td>\n",
       "      <td>0</td>\n",
       "      <td>0</td>\n",
       "      <td>0</td>\n",
       "      <td>0</td>\n",
       "      <td>0</td>\n",
       "      <td>0</td>\n",
       "      <td>0</td>\n",
       "      <td>0</td>\n",
       "      <td>0</td>\n",
       "      <td>0</td>\n",
       "    </tr>\n",
       "    <tr>\n",
       "      <td>2</td>\n",
       "      <td>75000.0</td>\n",
       "      <td>6.83</td>\n",
       "      <td>2</td>\n",
       "      <td>NaN</td>\n",
       "      <td>6075</td>\n",
       "      <td>0.0</td>\n",
       "      <td>5</td>\n",
       "      <td>20</td>\n",
       "      <td>1</td>\n",
       "      <td>0</td>\n",
       "      <td>...</td>\n",
       "      <td>0</td>\n",
       "      <td>0</td>\n",
       "      <td>0</td>\n",
       "      <td>0</td>\n",
       "      <td>0</td>\n",
       "      <td>0</td>\n",
       "      <td>0</td>\n",
       "      <td>0</td>\n",
       "      <td>0</td>\n",
       "      <td>0</td>\n",
       "    </tr>\n",
       "    <tr>\n",
       "      <td>3</td>\n",
       "      <td>73000.0</td>\n",
       "      <td>7.76</td>\n",
       "      <td>0</td>\n",
       "      <td>NaN</td>\n",
       "      <td>12000</td>\n",
       "      <td>0.0</td>\n",
       "      <td>6</td>\n",
       "      <td>8</td>\n",
       "      <td>1</td>\n",
       "      <td>0</td>\n",
       "      <td>...</td>\n",
       "      <td>0</td>\n",
       "      <td>0</td>\n",
       "      <td>0</td>\n",
       "      <td>0</td>\n",
       "      <td>0</td>\n",
       "      <td>0</td>\n",
       "      <td>0</td>\n",
       "      <td>0</td>\n",
       "      <td>0</td>\n",
       "      <td>0</td>\n",
       "    </tr>\n",
       "    <tr>\n",
       "      <td>4</td>\n",
       "      <td>156000.0</td>\n",
       "      <td>9.62</td>\n",
       "      <td>0</td>\n",
       "      <td>NaN</td>\n",
       "      <td>35000</td>\n",
       "      <td>26.0</td>\n",
       "      <td>9</td>\n",
       "      <td>21</td>\n",
       "      <td>1</td>\n",
       "      <td>0</td>\n",
       "      <td>...</td>\n",
       "      <td>0</td>\n",
       "      <td>0</td>\n",
       "      <td>0</td>\n",
       "      <td>0</td>\n",
       "      <td>0</td>\n",
       "      <td>0</td>\n",
       "      <td>0</td>\n",
       "      <td>0</td>\n",
       "      <td>0</td>\n",
       "      <td>0</td>\n",
       "    </tr>\n",
       "    <tr>\n",
       "      <td>...</td>\n",
       "      <td>...</td>\n",
       "      <td>...</td>\n",
       "      <td>...</td>\n",
       "      <td>...</td>\n",
       "      <td>...</td>\n",
       "      <td>...</td>\n",
       "      <td>...</td>\n",
       "      <td>...</td>\n",
       "      <td>...</td>\n",
       "      <td>...</td>\n",
       "      <td>...</td>\n",
       "      <td>...</td>\n",
       "      <td>...</td>\n",
       "      <td>...</td>\n",
       "      <td>...</td>\n",
       "      <td>...</td>\n",
       "      <td>...</td>\n",
       "      <td>...</td>\n",
       "      <td>...</td>\n",
       "      <td>...</td>\n",
       "      <td>...</td>\n",
       "    </tr>\n",
       "    <tr>\n",
       "      <td>109536</td>\n",
       "      <td>120000.0</td>\n",
       "      <td>8.15</td>\n",
       "      <td>2</td>\n",
       "      <td>NaN</td>\n",
       "      <td>15000</td>\n",
       "      <td>32.0</td>\n",
       "      <td>13</td>\n",
       "      <td>57</td>\n",
       "      <td>1</td>\n",
       "      <td>0</td>\n",
       "      <td>...</td>\n",
       "      <td>0</td>\n",
       "      <td>0</td>\n",
       "      <td>0</td>\n",
       "      <td>0</td>\n",
       "      <td>0</td>\n",
       "      <td>1</td>\n",
       "      <td>0</td>\n",
       "      <td>0</td>\n",
       "      <td>0</td>\n",
       "      <td>0</td>\n",
       "    </tr>\n",
       "    <tr>\n",
       "      <td>109537</td>\n",
       "      <td>125000.0</td>\n",
       "      <td>9.08</td>\n",
       "      <td>1</td>\n",
       "      <td>NaN</td>\n",
       "      <td>9600</td>\n",
       "      <td>17.0</td>\n",
       "      <td>9</td>\n",
       "      <td>34</td>\n",
       "      <td>1</td>\n",
       "      <td>0</td>\n",
       "      <td>...</td>\n",
       "      <td>0</td>\n",
       "      <td>0</td>\n",
       "      <td>0</td>\n",
       "      <td>0</td>\n",
       "      <td>0</td>\n",
       "      <td>0</td>\n",
       "      <td>0</td>\n",
       "      <td>0</td>\n",
       "      <td>0</td>\n",
       "      <td>0</td>\n",
       "    </tr>\n",
       "    <tr>\n",
       "      <td>109538</td>\n",
       "      <td>37850.0</td>\n",
       "      <td>11.60</td>\n",
       "      <td>0</td>\n",
       "      <td>NaN</td>\n",
       "      <td>2000</td>\n",
       "      <td>0.0</td>\n",
       "      <td>10</td>\n",
       "      <td>11</td>\n",
       "      <td>1</td>\n",
       "      <td>0</td>\n",
       "      <td>...</td>\n",
       "      <td>0</td>\n",
       "      <td>0</td>\n",
       "      <td>0</td>\n",
       "      <td>0</td>\n",
       "      <td>0</td>\n",
       "      <td>0</td>\n",
       "      <td>0</td>\n",
       "      <td>0</td>\n",
       "      <td>0</td>\n",
       "      <td>0</td>\n",
       "    </tr>\n",
       "    <tr>\n",
       "      <td>109539</td>\n",
       "      <td>30000.0</td>\n",
       "      <td>24.88</td>\n",
       "      <td>0</td>\n",
       "      <td>NaN</td>\n",
       "      <td>2125</td>\n",
       "      <td>0.0</td>\n",
       "      <td>5</td>\n",
       "      <td>6</td>\n",
       "      <td>1</td>\n",
       "      <td>0</td>\n",
       "      <td>...</td>\n",
       "      <td>0</td>\n",
       "      <td>0</td>\n",
       "      <td>0</td>\n",
       "      <td>0</td>\n",
       "      <td>0</td>\n",
       "      <td>1</td>\n",
       "      <td>0</td>\n",
       "      <td>0</td>\n",
       "      <td>0</td>\n",
       "      <td>0</td>\n",
       "    </tr>\n",
       "    <tr>\n",
       "      <td>109540</td>\n",
       "      <td>137000.0</td>\n",
       "      <td>8.66</td>\n",
       "      <td>1</td>\n",
       "      <td>NaN</td>\n",
       "      <td>15000</td>\n",
       "      <td>60.0</td>\n",
       "      <td>8</td>\n",
       "      <td>17</td>\n",
       "      <td>1</td>\n",
       "      <td>0</td>\n",
       "      <td>...</td>\n",
       "      <td>0</td>\n",
       "      <td>0</td>\n",
       "      <td>0</td>\n",
       "      <td>1</td>\n",
       "      <td>0</td>\n",
       "      <td>0</td>\n",
       "      <td>0</td>\n",
       "      <td>0</td>\n",
       "      <td>0</td>\n",
       "      <td>0</td>\n",
       "    </tr>\n",
       "  </tbody>\n",
       "</table>\n",
       "<p>109541 rows × 40 columns</p>\n",
       "</div>"
      ],
      "text/plain": [
       "        Annual_Income  Debt_To_Income  Inquiries_Last_6Mo  Interest_Rate  \\\n",
       "0            129000.0           12.87                   0            NaN   \n",
       "1            110000.0           11.37                   0            NaN   \n",
       "2             75000.0            6.83                   2            NaN   \n",
       "3             73000.0            7.76                   0            NaN   \n",
       "4            156000.0            9.62                   0            NaN   \n",
       "...               ...             ...                 ...            ...   \n",
       "109536       120000.0            8.15                   2            NaN   \n",
       "109537       125000.0            9.08                   1            NaN   \n",
       "109538        37850.0           11.60                   0            NaN   \n",
       "109539        30000.0           24.88                   0            NaN   \n",
       "109540       137000.0            8.66                   1            NaN   \n",
       "\n",
       "        Loan_Amount_Requested  Months_Since_Deliquency  Number_Open_Accounts  \\\n",
       "0                       27500                     68.0                    10   \n",
       "1                       26000                      0.0                     6   \n",
       "2                        6075                      0.0                     5   \n",
       "3                       12000                      0.0                     6   \n",
       "4                       35000                     26.0                     9   \n",
       "...                       ...                      ...                   ...   \n",
       "109536                  15000                     32.0                    13   \n",
       "109537                   9600                     17.0                     9   \n",
       "109538                   2000                      0.0                    10   \n",
       "109539                   2125                      0.0                     5   \n",
       "109540                  15000                     60.0                     8   \n",
       "\n",
       "        Total_Accounts  Gender_Male  Home_Owner_NaN  ...  \\\n",
       "0                   37            1               0  ...   \n",
       "1                   23            1               1  ...   \n",
       "2                   20            1               0  ...   \n",
       "3                    8            1               0  ...   \n",
       "4                   21            1               0  ...   \n",
       "...                ...          ...             ...  ...   \n",
       "109536              57            1               0  ...   \n",
       "109537              34            1               0  ...   \n",
       "109538              11            1               0  ...   \n",
       "109539               6            1               0  ...   \n",
       "109540              17            1               0  ...   \n",
       "\n",
       "        Purpose_Of_Loan_home_improvement  Purpose_Of_Loan_house  \\\n",
       "0                                      0                      0   \n",
       "1                                      0                      0   \n",
       "2                                      0                      0   \n",
       "3                                      0                      0   \n",
       "4                                      0                      0   \n",
       "...                                  ...                    ...   \n",
       "109536                                 0                      0   \n",
       "109537                                 0                      0   \n",
       "109538                                 0                      0   \n",
       "109539                                 0                      0   \n",
       "109540                                 0                      0   \n",
       "\n",
       "        Purpose_Of_Loan_major_purchase  Purpose_Of_Loan_medical  \\\n",
       "0                                    0                        0   \n",
       "1                                    0                        0   \n",
       "2                                    0                        0   \n",
       "3                                    0                        0   \n",
       "4                                    0                        0   \n",
       "...                                ...                      ...   \n",
       "109536                               0                        0   \n",
       "109537                               0                        0   \n",
       "109538                               0                        0   \n",
       "109539                               0                        0   \n",
       "109540                               0                        1   \n",
       "\n",
       "        Purpose_Of_Loan_moving  Purpose_Of_Loan_other  \\\n",
       "0                            0                      0   \n",
       "1                            0                      0   \n",
       "2                            0                      0   \n",
       "3                            0                      0   \n",
       "4                            0                      0   \n",
       "...                        ...                    ...   \n",
       "109536                       0                      1   \n",
       "109537                       0                      0   \n",
       "109538                       0                      0   \n",
       "109539                       0                      1   \n",
       "109540                       0                      0   \n",
       "\n",
       "        Purpose_Of_Loan_renewable_energy  Purpose_Of_Loan_small_business  \\\n",
       "0                                      0                               0   \n",
       "1                                      0                               0   \n",
       "2                                      0                               0   \n",
       "3                                      0                               0   \n",
       "4                                      0                               0   \n",
       "...                                  ...                             ...   \n",
       "109536                                 0                               0   \n",
       "109537                                 0                               0   \n",
       "109538                                 0                               0   \n",
       "109539                                 0                               0   \n",
       "109540                                 0                               0   \n",
       "\n",
       "        Purpose_Of_Loan_vacation  Purpose_Of_Loan_wedding  \n",
       "0                              0                        0  \n",
       "1                              0                        0  \n",
       "2                              0                        0  \n",
       "3                              0                        0  \n",
       "4                              0                        0  \n",
       "...                          ...                      ...  \n",
       "109536                         0                        0  \n",
       "109537                         0                        0  \n",
       "109538                         0                        0  \n",
       "109539                         0                        0  \n",
       "109540                         0                        0  \n",
       "\n",
       "[109541 rows x 40 columns]"
      ]
     },
     "execution_count": 190,
     "metadata": {},
     "output_type": "execute_result"
    }
   ],
   "source": [
    "train = full.iloc[: 164309, :]\n",
    "test = full.iloc[164309: , :]\n",
    "test"
   ]
  },
  {
   "cell_type": "code",
   "execution_count": 191,
   "metadata": {},
   "outputs": [
    {
     "name": "stdout",
     "output_type": "stream",
     "text": [
      "(131447, 39) (32862, 39) (131447,) (32862,)\n"
     ]
    }
   ],
   "source": [
    "from sklearn.model_selection import train_test_split\n",
    "\n",
    "# Here is out local validation scheme!\n",
    "X_train, X_test, y_train, y_test = train_test_split(train.drop(['Interest_Rate'], axis = 1), \n",
    "                                                    train['Interest_Rate'], test_size = 0.2, \n",
    "                                                    random_state = 2)\n",
    "print(X_train.shape, X_test.shape, y_train.shape, y_test.shape)"
   ]
  },
  {
   "cell_type": "code",
   "execution_count": 192,
   "metadata": {},
   "outputs": [
    {
     "data": {
      "text/plain": [
       "LogisticRegression(max_iter=10000)"
      ]
     },
     "execution_count": 192,
     "metadata": {},
     "output_type": "execute_result"
    }
   ],
   "source": [
    "# We'll use a logistic regression model again, but we'll go to something more fancy soon! \n",
    "from sklearn.linear_model import LogisticRegression\n",
    "logisticRegression = LogisticRegression(max_iter = 10000)\n",
    "logisticRegression.fit(X_train, y_train)\n"
   ]
  },
  {
   "cell_type": "code",
   "execution_count": 193,
   "metadata": {},
   "outputs": [
    {
     "name": "stdout",
     "output_type": "stream",
     "text": [
      "[2. 2. 2. ... 2. 2. 2.]\n"
     ]
    }
   ],
   "source": [
    "# Predict!\n",
    "predictions = logisticRegression.predict(X_test)\n",
    "# Print our preditions\n",
    "print(predictions)"
   ]
  },
  {
   "cell_type": "code",
   "execution_count": 194,
   "metadata": {},
   "outputs": [
    {
     "data": {
      "text/plain": [
       "2.32"
      ]
     },
     "execution_count": 194,
     "metadata": {},
     "output_type": "execute_result"
    }
   ],
   "source": [
    "# Check mean\n",
    "round(np.mean(predictions), 2)"
   ]
  },
  {
   "cell_type": "code",
   "execution_count": 195,
   "metadata": {},
   "outputs": [],
   "source": [
    "from sklearn.model_selection import KFold\n",
    "\n",
    "# Set our robust cross-validation scheme!\n",
    "kf = KFold(n_splits = 5, random_state = 2)"
   ]
  },
  {
   "cell_type": "code",
   "execution_count": 196,
   "metadata": {},
   "outputs": [
    {
     "data": {
      "text/plain": [
       "0.4602547564017735"
      ]
     },
     "execution_count": 196,
     "metadata": {},
     "output_type": "execute_result"
    }
   ],
   "source": [
    "from sklearn.model_selection import cross_val_score\n",
    "\n",
    "# Print our CV accuracy estimate:\n",
    "#print(cross_val_score(logisticRegression, X_test, y_test, cv = kf).mean())\n",
    "cross_val_score(logisticRegression, train.drop(['Interest_Rate'], axis = 1),train['Interest_Rate'], cv = kf).mean()"
   ]
  },
  {
   "cell_type": "code",
   "execution_count": 197,
   "metadata": {},
   "outputs": [],
   "source": [
    "from sklearn.ensemble import RandomForestClassifier\n",
    "\n",
    "#Initialize randomForest\n",
    "randomForest = RandomForestClassifier(random_state = 2)"
   ]
  },
  {
   "cell_type": "code",
   "execution_count": 198,
   "metadata": {},
   "outputs": [],
   "source": [
    "# Define our optimal randomForest algo\n",
    "randomForestFinalModel = RandomForestClassifier(random_state = 2, criterion = 'gini', \n",
    "                                                max_depth = 7, max_features = 'auto', n_estimators = 300)"
   ]
  },
  {
   "cell_type": "code",
   "execution_count": 199,
   "metadata": {},
   "outputs": [
    {
     "data": {
      "text/plain": [
       "RandomForestClassifier(max_depth=7, n_estimators=300, random_state=2)"
      ]
     },
     "execution_count": 199,
     "metadata": {},
     "output_type": "execute_result"
    }
   ],
   "source": [
    "# Fit the model to the training set\n",
    "randomForestFinalModel.fit(X_train, y_train)"
   ]
  },
  {
   "cell_type": "code",
   "execution_count": 200,
   "metadata": {},
   "outputs": [],
   "source": [
    "# Predict!\n",
    "predictions = randomForestFinalModel.predict(X_test)"
   ]
  },
  {
   "cell_type": "code",
   "execution_count": 201,
   "metadata": {},
   "outputs": [],
   "source": [
    "# Predict!\n",
    "test['Interest_Rate'] = randomForestFinalModel.predict(test.drop(['Interest_Rate'], axis = 1))"
   ]
  },
  {
   "cell_type": "code",
   "execution_count": 202,
   "metadata": {},
   "outputs": [],
   "source": [
    "submission_sample = pd.read_csv('sample_submission.csv')"
   ]
  },
  {
   "cell_type": "code",
   "execution_count": 203,
   "metadata": {},
   "outputs": [],
   "source": [
    "dataset = pd.DataFrame({\n",
    "    'Loan_ID': submission_sample['Loan_ID'],\n",
    "    'Interest_Rate': test['Interest_Rate']\n",
    "})"
   ]
  },
  {
   "cell_type": "code",
   "execution_count": 204,
   "metadata": {},
   "outputs": [],
   "source": [
    "dataset.to_csv('output.csv', index = False)"
   ]
  }
 ],
 "metadata": {
  "kernelspec": {
   "display_name": "Python 3",
   "language": "python",
   "name": "python3"
  },
  "language_info": {
   "codemirror_mode": {
    "name": "ipython",
    "version": 3
   },
   "file_extension": ".py",
   "mimetype": "text/x-python",
   "name": "python",
   "nbconvert_exporter": "python",
   "pygments_lexer": "ipython3",
   "version": "3.7.4"
  }
 },
 "nbformat": 4,
 "nbformat_minor": 2
}
